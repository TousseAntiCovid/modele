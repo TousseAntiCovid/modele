{
 "cells": [
  {
   "cell_type": "code",
   "execution_count": null,
   "id": "b5326f09",
   "metadata": {},
   "outputs": [],
   "source": [
    "import numpy as np\n",
    "import librosa\n",
    "import IPython.display as ipd\n",
    "import matplotlib.pyplot as plt\n",
    "import soundfile as sf\n",
    "\n",
    "from pydub import AudioSegment"
   ]
  },
  {
   "cell_type": "markdown",
   "id": "99a7f10a",
   "metadata": {},
   "source": [
    "DataAugmentation un seul son"
   ]
  },
  {
   "cell_type": "code",
   "execution_count": null,
   "id": "65eba219",
   "metadata": {},
   "outputs": [],
   "source": [
    "# On importe le son\n",
    "\n",
    "cov_file = \"son_test/cov1.wav\""
   ]
  },
  {
   "cell_type": "code",
   "execution_count": null,
   "id": "dc2dea64",
   "metadata": {},
   "outputs": [],
   "source": [
    "ipd.Audio(cov_file)"
   ]
  },
  {
   "cell_type": "code",
   "execution_count": null,
   "id": "891dc07c",
   "metadata": {},
   "outputs": [],
   "source": [
    "# load audio files with librosa\n",
    "sound = librosa.core.load(cov_file)[0]"
   ]
  },
  {
   "cell_type": "code",
   "execution_count": null,
   "id": "67267115",
   "metadata": {},
   "outputs": [],
   "source": [
    "def plot_time_series(data, titre):\n",
    "    fig = plt.figure(figsize=(14, 8))\n",
    "    plt.title(titre)\n",
    "    plt.ylabel('Amplitude')\n",
    "    plt.plot(np.linspace(0, 1, len(data)), data)\n",
    "    plt.show()"
   ]
  },
  {
   "cell_type": "code",
   "execution_count": null,
   "id": "9e8b0750",
   "metadata": {},
   "outputs": [],
   "source": [
    "# Shifting Time\n",
    "\n",
    "#Le but du shifting time est de décaler aléatoirement à droite ou à gauche le son, avec un nombre de secondes aléatoires\n",
    "plot_time_series(sound, 'Basic sound')\n",
    "data_roll = np.roll(sound, 30000)\n",
    "plot_time_series(data_roll,'Sound roll ')\n"
   ]
  },
  {
   "cell_type": "code",
   "execution_count": null,
   "id": "c1731026",
   "metadata": {},
   "outputs": [],
   "source": [
    "y, sr = librosa.load(cov_file)\n",
    "\n",
    "\n",
    "ipd.Audio(data_roll, rate=sr)"
   ]
  },
  {
   "cell_type": "code",
   "execution_count": null,
   "id": "c45e3bfc",
   "metadata": {},
   "outputs": [],
   "source": [
    "# Changing Pitch/Hauteur du son\n",
    "\n",
    "\n",
    "plot_time_series(sound,'Basic Sound')\n",
    "\n",
    "sound_pitch = librosa.effects.pitch_shift(y, sr, n_steps=5)\n",
    "\n",
    "ipd.Audio(sound_pitch, rate=sr)\n",
    "\n",
    "\n",
    "plot_time_series(sound_pitch,'Sound with changing pitch ')"
   ]
  },
  {
   "cell_type": "code",
   "execution_count": null,
   "id": "b4990311",
   "metadata": {},
   "outputs": [],
   "source": [
    "ipd.Audio(sound_pitch, rate=sr)"
   ]
  },
  {
   "cell_type": "code",
   "execution_count": null,
   "id": "d69db9c2",
   "metadata": {},
   "outputs": [],
   "source": [
    "sf.write('new.wav', sound_pitch, sr, 'PCM_24')"
   ]
  },
  {
   "cell_type": "code",
   "execution_count": null,
   "id": "cf4cfc0e",
   "metadata": {},
   "outputs": [],
   "source": [
    "# Changing Speed/Rapidité\n",
    "\n",
    "plot_time_series(sound,'Basic Sound')\n",
    "\n",
    "sound_speed = librosa.effects.time_stretch(y, 0.5)\n",
    "plot_time_series(sound_speed,'Sound Speed')"
   ]
  },
  {
   "cell_type": "code",
   "execution_count": null,
   "id": "44daf881",
   "metadata": {},
   "outputs": [],
   "source": [
    "ipd.Audio(sound_speed, rate=sr)"
   ]
  },
  {
   "cell_type": "markdown",
   "id": "3e26eb52",
   "metadata": {},
   "source": [
    "DataAugmentation sur le dataset COVID"
   ]
  },
  {
   "cell_type": "code",
   "execution_count": null,
   "id": "9cd0ed76",
   "metadata": {},
   "outputs": [],
   "source": []
  }
 ],
 "metadata": {
  "kernelspec": {
   "display_name": "Python 3",
   "language": "python",
   "name": "python3"
  },
  "language_info": {
   "codemirror_mode": {
    "name": "ipython",
    "version": 3
   },
   "file_extension": ".py",
   "mimetype": "text/x-python",
   "name": "python",
   "nbconvert_exporter": "python",
   "pygments_lexer": "ipython3",
   "version": "3.8.8"
  }
 },
 "nbformat": 4,
 "nbformat_minor": 5
}
