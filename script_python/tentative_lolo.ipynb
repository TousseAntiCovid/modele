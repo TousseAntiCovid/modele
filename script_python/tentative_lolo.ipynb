{
 "cells": [
  {
   "cell_type": "code",
   "execution_count": 1,
   "metadata": {},
   "outputs": [],
   "source": [
    "import json\n",
    "import os\n",
    "import shutil\n",
    "import pandas as pd"
   ]
  },
  {
   "cell_type": "code",
   "execution_count": 2,
   "metadata": {},
   "outputs": [],
   "source": [
    "source_json = r'C:\\Users\\loicl\\desktop\\cours_efrei_l3\\semestre2\\summerCamp\\projet\\public_dataset'\n",
    "source_webm = r'C:\\Users\\loicl\\desktop\\cours_efrei_l3\\semestre2\\summerCamp\\projet\\webm_dataset'\n",
    "\n",
    "destination_json = r'C:\\Users\\loicl\\desktop\\cours_efrei_l3\\semestre2\\summerCamp\\arrive_json'\n",
    "destination_webm = r'C:\\Users\\loicl\\desktop\\cours_efrei_l3\\semestre2\\summerCamp\\arrive_webm'"
   ]
  },
  {
   "cell_type": "code",
   "execution_count": 3,
   "metadata": {},
   "outputs": [
    {
     "name": "stdout",
     "output_type": "stream",
     "text": [
      "metadata_compiled.csv\n"
     ]
    }
   ],
   "source": [
    "compt_json = 0\n",
    "\n",
    "files_json = os.listdir(source_json)\n",
    "\n",
    "for file in files_json :\n",
    "    if file[-4:] == \"json\" :\n",
    "        compt_json += 1\n",
    "    else :\n",
    "        print(file)\n",
    "        "
   ]
  },
  {
   "cell_type": "code",
   "execution_count": 4,
   "metadata": {},
   "outputs": [
    {
     "name": "stdout",
     "output_type": "stream",
     "text": [
      "27550\n"
     ]
    }
   ],
   "source": [
    "print(compt_json)"
   ]
  },
  {
   "cell_type": "code",
   "execution_count": 5,
   "metadata": {},
   "outputs": [],
   "source": [
    "compt_webm = 0\n",
    "files_webm = os.listdir(source_webm)\n",
    "\n",
    "for file in files_webm :\n",
    "    if (file[-4 :] == \"webm\") or (file[-3:] == \"ogg\") :\n",
    "        compt_webm += 1"
   ]
  },
  {
   "cell_type": "code",
   "execution_count": 6,
   "metadata": {},
   "outputs": [
    {
     "name": "stdout",
     "output_type": "stream",
     "text": [
      "27550\n"
     ]
    }
   ],
   "source": [
    "print(compt_webm)"
   ]
  },
  {
   "cell_type": "code",
   "execution_count": 7,
   "metadata": {},
   "outputs": [],
   "source": [
    "os.chdir('C:\\\\Users\\\\loicl\\\\desktop\\\\cours_EFREI_L3\\\\semestre2\\\\summerCamp\\\\projet\\\\public_dataset')\n",
    "truc = pd.read_csv('metadata_compiled.csv')"
   ]
  },
  {
   "cell_type": "code",
   "execution_count": 8,
   "metadata": {},
   "outputs": [
    {
     "name": "stdout",
     "output_type": "stream",
     "text": [
      "                                       uuid                          datetime  \\\n",
      "0      00014dcc-0f06-4c27-8c7b-737b18a2cf4c  2020-11-25T18:58:50.488301+00:00   \n",
      "1      00039425-7f3a-42aa-ac13-834aaa2b6b92  2020-04-13T21:30:59.801831+00:00   \n",
      "2      0007c6f1-5441-40e6-9aaf-a761d8f2da3b  2020-10-18T15:38:38.205870+00:00   \n",
      "3      0009eb28-d8be-4dc1-92bb-907e53bc5c7a  2020-04-12T04:02:18.159383+00:00   \n",
      "4      0012c608-33d0-4ef7-bde3-75a0b1a0024e  2020-04-15T01:03:59.029326+00:00   \n",
      "...                                     ...                               ...   \n",
      "27545  fff30afc-db62-4408-a585-07ca9a254fcc  2020-11-05T08:26:04.219206+00:00   \n",
      "27546  fff3ff61-2387-4139-938b-539db01e6be5  2020-06-28T21:28:21.530881+00:00   \n",
      "27547  fff474bf-39a4-4a61-8348-6b992fb5e439  2020-04-10T05:10:36.787070+00:00   \n",
      "27548  fffaa9f8-4db0-46c5-90fb-93b7b014b55d  2020-04-13T18:58:26.954663+00:00   \n",
      "27549  fffce9f0-a5e8-4bee-b13b-c671aac4a61c  2020-04-14T13:02:33.307684+00:00   \n",
      "\n",
      "       cough_detected        SNR  latitude  longitude   age  gender  \\\n",
      "0              0.0155   7.326171      48.9        2.4   NaN     NaN   \n",
      "1              0.9609  16.151433      31.3       34.8  15.0    male   \n",
      "2              0.1643  16.217201       NaN        NaN  46.0  female   \n",
      "3              0.9301  20.146058      40.0      -75.1  34.0    male   \n",
      "4              0.0482   0.000000     -16.5      -71.5   NaN     NaN   \n",
      "...               ...        ...       ...        ...   ...     ...   \n",
      "27545          0.9698  11.109221      40.7       29.8   NaN     NaN   \n",
      "27546          0.5257  43.932829      51.6       -0.2   NaN  female   \n",
      "27547          0.1945  27.702036     -39.0      -68.1   NaN     NaN   \n",
      "27548          0.0243   8.825849      41.0       28.8  50.0    male   \n",
      "27549          0.9754  26.774745      41.0       28.7   NaN     NaN   \n",
      "\n",
      "      respiratory_condition fever_muscle_pain  ... quality_4 cough_type_4  \\\n",
      "0                       NaN               NaN  ...       NaN          NaN   \n",
      "1                     False             False  ...       NaN          NaN   \n",
      "2                     False             False  ...       NaN          NaN   \n",
      "3                      True             False  ...       NaN          NaN   \n",
      "4                       NaN               NaN  ...       NaN          NaN   \n",
      "...                     ...               ...  ...       ...          ...   \n",
      "27545                   NaN               NaN  ...       NaN          NaN   \n",
      "27546                 False             False  ...       NaN          NaN   \n",
      "27547                   NaN               NaN  ...       NaN          NaN   \n",
      "27548                  True              True  ...       NaN          NaN   \n",
      "27549                   NaN               NaN  ...       NaN          NaN   \n",
      "\n",
      "      dyspnea_4 wheezing_4 stridor_4 choking_4 congestion_4 nothing_4  \\\n",
      "0           NaN        NaN       NaN       NaN          NaN       NaN   \n",
      "1           NaN        NaN       NaN       NaN          NaN       NaN   \n",
      "2           NaN        NaN       NaN       NaN          NaN       NaN   \n",
      "3           NaN        NaN       NaN       NaN          NaN       NaN   \n",
      "4           NaN        NaN       NaN       NaN          NaN       NaN   \n",
      "...         ...        ...       ...       ...          ...       ...   \n",
      "27545       NaN        NaN       NaN       NaN          NaN       NaN   \n",
      "27546       NaN        NaN       NaN       NaN          NaN       NaN   \n",
      "27547       NaN        NaN       NaN       NaN          NaN       NaN   \n",
      "27548       NaN        NaN       NaN       NaN          NaN       NaN   \n",
      "27549       NaN        NaN       NaN       NaN          NaN       NaN   \n",
      "\n",
      "      diagnosis_4 severity_4  \n",
      "0             NaN        NaN  \n",
      "1             NaN        NaN  \n",
      "2             NaN        NaN  \n",
      "3             NaN        NaN  \n",
      "4             NaN        NaN  \n",
      "...           ...        ...  \n",
      "27545         NaN        NaN  \n",
      "27546         NaN        NaN  \n",
      "27547         NaN        NaN  \n",
      "27548         NaN        NaN  \n",
      "27549         NaN        NaN  \n",
      "\n",
      "[27550 rows x 51 columns]\n"
     ]
    }
   ],
   "source": [
    "print(truc)"
   ]
  },
  {
   "cell_type": "code",
   "execution_count": 9,
   "metadata": {},
   "outputs": [],
   "source": [
    "os.chdir('C:\\\\Users\\\\loicl\\\\Desktop\\\\cours_EFREI_L3\\\\semestre2\\\\summerCamp\\\\projet\\\\webm_dataset')"
   ]
  },
  {
   "cell_type": "code",
   "execution_count": 10,
   "metadata": {},
   "outputs": [
    {
     "data": {
      "text/plain": [
       "'C:\\\\Users\\\\loicl\\\\Desktop\\\\cours_EFREI_L3\\\\semestre2\\\\summerCamp\\\\projet\\\\webm_dataset'"
      ]
     },
     "execution_count": 10,
     "metadata": {},
     "output_type": "execute_result"
    }
   ],
   "source": [
    "os.getcwd()"
   ]
  },
  {
   "cell_type": "code",
   "execution_count": 11,
   "metadata": {},
   "outputs": [
    {
     "data": {
      "text/plain": [
       "Index(['uuid', 'datetime', 'cough_detected', 'SNR', 'latitude', 'longitude',\n",
       "       'age', 'gender', 'respiratory_condition', 'fever_muscle_pain', 'status',\n",
       "       'quality_1', 'cough_type_1', 'dyspnea_1', 'wheezing_1', 'stridor_1',\n",
       "       'choking_1', 'congestion_1', 'nothing_1', 'diagnosis_1', 'severity_1',\n",
       "       'quality_2', 'cough_type_2', 'dyspnea_2', 'wheezing_2', 'stridor_2',\n",
       "       'choking_2', 'congestion_2', 'nothing_2', 'diagnosis_2', 'severity_2',\n",
       "       'quality_3', 'cough_type_3', 'dyspnea_3', 'wheezing_3', 'stridor_3',\n",
       "       'choking_3', 'congestion_3', 'nothing_3', 'diagnosis_3', 'severity_3',\n",
       "       'quality_4', 'cough_type_4', 'dyspnea_4', 'wheezing_4', 'stridor_4',\n",
       "       'choking_4', 'congestion_4', 'nothing_4', 'diagnosis_4', 'severity_4'],\n",
       "      dtype='object')"
      ]
     },
     "execution_count": 11,
     "metadata": {},
     "output_type": "execute_result"
    }
   ],
   "source": [
    "truc.columns"
   ]
  },
  {
   "cell_type": "code",
   "execution_count": 12,
   "metadata": {},
   "outputs": [
    {
     "data": {
      "text/plain": [
       "array([nan, 'healthy', 'COVID-19', 'symptomatic'], dtype=object)"
      ]
     },
     "execution_count": 12,
     "metadata": {},
     "output_type": "execute_result"
    }
   ],
   "source": [
    "truc[\"status\"].unique()"
   ]
  },
  {
   "cell_type": "code",
   "execution_count": 13,
   "metadata": {},
   "outputs": [
    {
     "name": "stdout",
     "output_type": "stream",
     "text": [
      "cc\n",
      "cc\n",
      "cc\n",
      "cc\n",
      "cc\n",
      "cc\n",
      "cc\n",
      "cc\n",
      "cc\n",
      "cc\n",
      "cc\n",
      "cc\n",
      "cc\n",
      "cc\n",
      "cc\n",
      "cc\n",
      "cc\n"
     ]
    },
    {
     "ename": "KeyboardInterrupt",
     "evalue": "",
     "output_type": "error",
     "traceback": [
      "\u001b[1;31m---------------------------------------------------------------------------\u001b[0m",
      "\u001b[1;31mKeyboardInterrupt\u001b[0m                         Traceback (most recent call last)",
      "\u001b[1;32m<ipython-input-13-7bcba50b00c3>\u001b[0m in \u001b[0;36m<module>\u001b[1;34m\u001b[0m\n\u001b[0;32m      5\u001b[0m \u001b[0mos\u001b[0m\u001b[1;33m.\u001b[0m\u001b[0mchdir\u001b[0m\u001b[1;33m(\u001b[0m\u001b[1;34m'C:\\\\Users\\\\loicl\\\\Desktop\\\\cours_EFREI_L3\\\\semestre2\\\\summerCamp\\\\projet\\\\public_dataset'\u001b[0m\u001b[1;33m)\u001b[0m\u001b[1;33m\u001b[0m\u001b[1;33m\u001b[0m\u001b[0m\n\u001b[0;32m      6\u001b[0m \u001b[1;32mfor\u001b[0m \u001b[0mfile\u001b[0m \u001b[1;32min\u001b[0m \u001b[0mfiles_json\u001b[0m \u001b[1;33m:\u001b[0m\u001b[1;33m\u001b[0m\u001b[1;33m\u001b[0m\u001b[0m\n\u001b[1;32m----> 7\u001b[1;33m     \u001b[0mf\u001b[0m \u001b[1;33m=\u001b[0m \u001b[0mopen\u001b[0m\u001b[1;33m(\u001b[0m\u001b[0mfile\u001b[0m\u001b[1;33m)\u001b[0m\u001b[1;33m\u001b[0m\u001b[1;33m\u001b[0m\u001b[0m\n\u001b[0m\u001b[0;32m      8\u001b[0m     \u001b[0mtruc\u001b[0m \u001b[1;33m=\u001b[0m \u001b[0mjson\u001b[0m\u001b[1;33m.\u001b[0m\u001b[0mload\u001b[0m\u001b[1;33m(\u001b[0m\u001b[0mf\u001b[0m\u001b[1;33m)\u001b[0m\u001b[1;33m\u001b[0m\u001b[1;33m\u001b[0m\u001b[0m\n\u001b[0;32m      9\u001b[0m     \u001b[1;32mif\u001b[0m \u001b[1;34m\"status\"\u001b[0m \u001b[1;32min\u001b[0m \u001b[0mtruc\u001b[0m \u001b[1;33m:\u001b[0m\u001b[1;33m\u001b[0m\u001b[1;33m\u001b[0m\u001b[0m\n",
      "\u001b[1;32m~\\anaconda3\\lib\\_bootlocale.py\u001b[0m in \u001b[0;36mgetpreferredencoding\u001b[1;34m(do_setlocale)\u001b[0m\n\u001b[0;32m      9\u001b[0m \u001b[1;33m\u001b[0m\u001b[0m\n\u001b[0;32m     10\u001b[0m \u001b[1;32mif\u001b[0m \u001b[0msys\u001b[0m\u001b[1;33m.\u001b[0m\u001b[0mplatform\u001b[0m\u001b[1;33m.\u001b[0m\u001b[0mstartswith\u001b[0m\u001b[1;33m(\u001b[0m\u001b[1;34m\"win\"\u001b[0m\u001b[1;33m)\u001b[0m\u001b[1;33m:\u001b[0m\u001b[1;33m\u001b[0m\u001b[1;33m\u001b[0m\u001b[0m\n\u001b[1;32m---> 11\u001b[1;33m     \u001b[1;32mdef\u001b[0m \u001b[0mgetpreferredencoding\u001b[0m\u001b[1;33m(\u001b[0m\u001b[0mdo_setlocale\u001b[0m\u001b[1;33m=\u001b[0m\u001b[1;32mTrue\u001b[0m\u001b[1;33m)\u001b[0m\u001b[1;33m:\u001b[0m\u001b[1;33m\u001b[0m\u001b[1;33m\u001b[0m\u001b[0m\n\u001b[0m\u001b[0;32m     12\u001b[0m         \u001b[1;32mif\u001b[0m \u001b[0msys\u001b[0m\u001b[1;33m.\u001b[0m\u001b[0mflags\u001b[0m\u001b[1;33m.\u001b[0m\u001b[0mutf8_mode\u001b[0m\u001b[1;33m:\u001b[0m\u001b[1;33m\u001b[0m\u001b[1;33m\u001b[0m\u001b[0m\n\u001b[0;32m     13\u001b[0m             \u001b[1;32mreturn\u001b[0m \u001b[1;34m'UTF-8'\u001b[0m\u001b[1;33m\u001b[0m\u001b[1;33m\u001b[0m\u001b[0m\n",
      "\u001b[1;31mKeyboardInterrupt\u001b[0m: "
     ]
    }
   ],
   "source": [
    "compt_healthy = 0\n",
    "compt_cov = 0\n",
    "compt_symp = 0\n",
    "compt = 0\n",
    "os.chdir('C:\\\\Users\\\\loicl\\\\Desktop\\\\cours_EFREI_L3\\\\semestre2\\\\summerCamp\\\\projet\\\\public_dataset')\n",
    "for file in files_json :\n",
    "    f = open(file)\n",
    "    truc = json.load(f)\n",
    "    if \"status\" in truc :\n",
    "        if truc[\"status\"] == \"healthy\":\n",
    "            compt_healthy += 1\n",
    "        elif truc[\"status\"] == \"COVID-19\" :\n",
    "            compt_cov += 1\n",
    "            print(\"cc\")\n",
    "        elif truc[\"status\"] == \"symptomatic\" :\n",
    "            compt_symp += 1"
   ]
  },
  {
   "cell_type": "code",
   "execution_count": null,
   "metadata": {},
   "outputs": [],
   "source": [
    "print(compt_healthy)\n",
    "print(compt_cov)\n",
    "print(compt_symp)"
   ]
  },
  {
   "cell_type": "code",
   "execution_count": 22,
   "metadata": {},
   "outputs": [
    {
     "data": {
      "text/plain": [
       "'test/truc2.json'"
      ]
     },
     "execution_count": 22,
     "metadata": {},
     "output_type": "execute_result"
    }
   ],
   "source": [
    "os.chdir('C:\\\\Users\\\\loicl\\\\Desktop\\\\cours_EFREI_L3\\\\semestre2\\\\summerCamp\\\\projet')\n",
    "test = \"truc2\"\n",
    "#os.rename('truc.json',\"{}.json\".format(test))\n",
    "#shutil.move(\"truc2.json\",\"test/truc2.json\")"
   ]
  },
  {
   "cell_type": "code",
   "execution_count": null,
   "metadata": {},
   "outputs": [],
   "source": [
    "print(compt_healthy + compt_cov + compt_symp)"
   ]
  },
  {
   "cell_type": "code",
   "execution_count": 33,
   "metadata": {
    "scrolled": false
   },
   "outputs": [],
   "source": [
    "compteur_h = 0\n",
    "compteur_C = 0\n",
    "compteur_s = 0\n",
    "os.chdir('C:\\\\Users\\\\loicl\\\\Desktop\\\\cours_EFREI_L3\\\\semestre2\\\\summerCamp\\\\projet')\n",
    "for file in files_json :\n",
    "    if file[-3:] != \"csv\" :\n",
    "        f = open(\"public_dataset/{}\".format(file))\n",
    "        truc = json.load(f)\n",
    "        if \"status\" in truc :\n",
    "            for audio in files_webm :\n",
    "                if (file[:-4] == audio[:-4]) or (file[:-4] == audio[:-3]) :\n",
    "                    if truc[\"status\"] == \"healthy\" :\n",
    "                        shutil.copy(\"public_dataset/{}\".format(file),\"dataset_renomme/healthy/json\")\n",
    "                        shutil.copy(\"webm_dataset/{}\".format(audio),\"dataset_renomme/healthy/audio\")\n",
    "                        os.rename(\"dataset_renomme/healthy/json/{}\".format(file),\"dataset_renomme/healthy/json/Healthy{}.json\".format(compteur_h))\n",
    "                        if audio[:-3] == \"ogg\" :\n",
    "                            os.rename(\"dataset_renomme/healthy/audio/{}\".format(audio),\"dataset_renomme/healthy/audio/Healthy{}.ogg\".format(compteur_h))\n",
    "                        else :\n",
    "                            os.rename(\"dataset_renomme/healthy/audio/{}\".format(audio),\"dataset_renomme/healthy/audio/Healthy{}.webm\".format(compteur_h))\n",
    "                        compteur_h += 1\n",
    "                        break\n",
    "                    elif truc[\"status\"] == \"COVID-19\" :\n",
    "                        shutil.copy(\"public_dataset/{}\".format(file),\"dataset_renomme/COVID/json\")\n",
    "                        shutil.copy(\"webm_dataset/{}\".format(audio),\"dataset_renomme/COVID/audio\")\n",
    "                        os.rename(\"dataset_renomme/COVID/json/{}\".format(file),\"dataset_renomme/COVID/json/COVID-19{}.json\".format(compteur_C))\n",
    "                        if audio[:-3] == \"ogg\" :\n",
    "                            os.rename(\"dataset_renomme/COVID/audio/{}\".format(audio),\"dataset_renomme/COVID/audio/COVID-19{}.ogg\".format(compteur_C))\n",
    "                        else :\n",
    "                            os.rename(\"dataset_renomme/COVID/audio/{}\".format(audio),\"dataset_renomme/COVID/audio/COVID-19{}.webm\".format(compteur_C))\n",
    "                        compteur_C += 1\n",
    "                        break\n",
    "                    elif truc[\"status\"] == \"symptomatic\" : \n",
    "                        shutil.copy(\"public_dataset/{}\".format(file),\"dataset_renomme/sympto/json\")\n",
    "                        shutil.copy(\"webm_dataset/{}\".format(audio),\"dataset_renomme/sympto/audio\")\n",
    "                        os.rename(\"dataset_renomme/sympto/json/{}\".format(file),\"dataset_renomme/sympto/json/symptomatic{}.json\".format(compteur_s))\n",
    "                        if audio[:-3] == \"ogg\" :\n",
    "                            os.rename(\"dataset_renomme/sympto/audio/{}\".format(audio),\"dataset_renomme/sympto/audio/symptomatic{}.ogg\".format(compteur_s))\n",
    "                        else :\n",
    "                            os.rename(\"dataset_renomme/sympto/audio/{}\".format(audio),\"dataset_renomme/sympto/audio/symptomatic{}.webm\".format(compteur_s))\n",
    "                        compteur_s += 1\n",
    "                        break\n",
    "                    else :\n",
    "                        print(\"il y a une couille dans le potage\")\n",
    "                    break"
   ]
  },
  {
   "cell_type": "code",
   "execution_count": null,
   "metadata": {},
   "outputs": [],
   "source": []
  },
  {
   "cell_type": "code",
   "execution_count": null,
   "metadata": {},
   "outputs": [],
   "source": []
  }
 ],
 "metadata": {
  "kernelspec": {
   "display_name": "Python 3",
   "language": "python",
   "name": "python3"
  },
  "language_info": {
   "codemirror_mode": {
    "name": "ipython",
    "version": 3
   },
   "file_extension": ".py",
   "mimetype": "text/x-python",
   "name": "python",
   "nbconvert_exporter": "python",
   "pygments_lexer": "ipython3",
   "version": "3.7.7"
  }
 },
 "nbformat": 4,
 "nbformat_minor": 4
}
