{
 "cells": [
  {
   "cell_type": "code",
   "execution_count": 11,
   "metadata": {},
   "outputs": [],
   "source": [
    "import os\n",
    "import numpy as np\n",
    "import tensorflow as tf\n",
    "\n",
    "from tensorflow.keras.models import Sequential\n",
    "from tensorflow.keras.layers import Activation, Dropout, Flatten, Dense\n",
    "from tensorflow.keras.preprocessing.image import ImageDataGenerator\n",
    "from tensorflow.keras.layers import Convolution2D, MaxPooling2D, ZeroPadding2D\n",
    "from tensorflow.keras import optimizers\n",
    "from tensorflow.keras.preprocessing.image import load_img,img_to_array\n",
    "from sklearn.model_selection import train_test_split\n",
    "from tensorflow.keras.models import load_model"
   ]
  },
  {
   "cell_type": "code",
   "execution_count": 12,
   "metadata": {},
   "outputs": [],
   "source": [
    "train_data_dir = r'..\\..\\spectro_fonctionnels\\Train'\n",
    "test_data_dir = r'..\\..\\spectro_fonctionnels\\Test'\n",
    "img_width, img_height = 336, 336"
   ]
  },
  {
   "cell_type": "code",
   "execution_count": 13,
   "metadata": {
    "scrolled": true
   },
   "outputs": [
    {
     "name": "stdout",
     "output_type": "stream",
     "text": [
      "Found 7642 images belonging to 2 classes.\n",
      "Found 1910 images belonging to 2 classes.\n"
     ]
    }
   ],
   "source": [
    "datagen = ImageDataGenerator(rescale=1./255)\n",
    "batch_size = 32 \n",
    "train_generator = datagen.flow_from_directory(\n",
    "        train_data_dir,\n",
    "        target_size=(img_width, img_height),\n",
    "        batch_size=batch_size,\n",
    "        shuffle = True,\n",
    "        class_mode='binary')\n",
    "\n",
    "test_generator = datagen.flow_from_directory(\n",
    "        test_data_dir,\n",
    "        target_size=(img_width, img_height),\n",
    "        batch_size=batch_size,\n",
    "        class_mode='binary')"
   ]
  },
  {
   "cell_type": "code",
   "execution_count": 14,
   "metadata": {},
   "outputs": [
    {
     "name": "stdout",
     "output_type": "stream",
     "text": [
      "Model: \"sequential\"\n",
      "_________________________________________________________________\n",
      "Layer (type)                 Output Shape              Param #   \n",
      "=================================================================\n",
      "conv2d (Conv2D)              (None, 334, 334, 32)      896       \n",
      "_________________________________________________________________\n",
      "activation (Activation)      (None, 334, 334, 32)      0         \n",
      "_________________________________________________________________\n",
      "max_pooling2d (MaxPooling2D) (None, 167, 167, 32)      0         \n",
      "_________________________________________________________________\n",
      "conv2d_1 (Conv2D)            (None, 165, 165, 32)      9248      \n",
      "_________________________________________________________________\n",
      "activation_1 (Activation)    (None, 165, 165, 32)      0         \n",
      "_________________________________________________________________\n",
      "max_pooling2d_1 (MaxPooling2 (None, 82, 82, 32)        0         \n",
      "_________________________________________________________________\n",
      "conv2d_2 (Conv2D)            (None, 80, 80, 64)        18496     \n",
      "_________________________________________________________________\n",
      "activation_2 (Activation)    (None, 80, 80, 64)        0         \n",
      "_________________________________________________________________\n",
      "max_pooling2d_2 (MaxPooling2 (None, 40, 40, 64)        0         \n",
      "_________________________________________________________________\n",
      "flatten (Flatten)            (None, 102400)            0         \n",
      "_________________________________________________________________\n",
      "dense (Dense)                (None, 64)                6553664   \n",
      "_________________________________________________________________\n",
      "activation_3 (Activation)    (None, 64)                0         \n",
      "_________________________________________________________________\n",
      "dropout (Dropout)            (None, 64)                0         \n",
      "_________________________________________________________________\n",
      "dense_1 (Dense)              (None, 1)                 65        \n",
      "_________________________________________________________________\n",
      "activation_4 (Activation)    (None, 1)                 0         \n",
      "=================================================================\n",
      "Total params: 6,582,369\n",
      "Trainable params: 6,582,369\n",
      "Non-trainable params: 0\n",
      "_________________________________________________________________\n"
     ]
    }
   ],
   "source": [
    "# On définit l'architecture du modèle :\n",
    "\n",
    "model = Sequential()\n",
    "model.add(Convolution2D(32, (3, 3), input_shape=(img_width, img_height,3)))\n",
    "model.add(Activation('relu'))\n",
    "model.add(MaxPooling2D(pool_size=(2, 2)))\n",
    "\n",
    "model.add(Convolution2D(32, (3, 3)))\n",
    "model.add(Activation('relu'))\n",
    "model.add(MaxPooling2D(pool_size=(2, 2)))\n",
    "\n",
    "model.add(Convolution2D(64, (3, 3)))\n",
    "model.add(Activation('relu'))\n",
    "model.add(MaxPooling2D(pool_size=(2, 2)))\n",
    "\n",
    "model.add(Flatten())\n",
    "model.add(Dense(64))\n",
    "model.add(Activation('relu'))\n",
    "model.add(Dropout(0.5))\n",
    "model.add(Dense(1))\n",
    "model.add(Activation('sigmoid'))\n",
    "\n",
    "# On compile le modeles :\n",
    "\n",
    "model.compile(loss='binary_crossentropy',\n",
    "              optimizer='adam',\n",
    "              metrics=['accuracy'])\n",
    "\n",
    "# On affiche le model :\n",
    "\n",
    "model.summary()"
   ]
  },
  {
   "cell_type": "code",
   "execution_count": 15,
   "metadata": {},
   "outputs": [],
   "source": [
    "# On définit les parametres pour l'entrainement :\n",
    "epochs = 20\n",
    "train_samples = 7642 \n",
    "test_samples = 1910 "
   ]
  },
  {
   "cell_type": "code",
   "execution_count": 16,
   "metadata": {},
   "outputs": [
    {
     "name": "stdout",
     "output_type": "stream",
     "text": [
      "Epoch 1/20\n",
      "238/238 [==============================] - 1366s 6s/step - loss: 0.5504 - acc: 0.7313 - val_loss: 0.4850 - val_acc: 0.7696\n",
      "Epoch 2/20\n",
      "238/238 [==============================] - 691s 3s/step - loss: 0.4109 - acc: 0.8256 - val_loss: 0.3663 - val_acc: 0.8506\n",
      "Epoch 3/20\n",
      "238/238 [==============================] - 821s 3s/step - loss: 0.3695 - acc: 0.8469 - val_loss: 0.2892 - val_acc: 0.8824\n",
      "Epoch 4/20\n",
      "238/238 [==============================] - 609s 3s/step - loss: 0.3215 - acc: 0.8687 - val_loss: 0.2593 - val_acc: 0.8962\n",
      "Epoch 5/20\n",
      "238/238 [==============================] - 646s 3s/step - loss: 0.2731 - acc: 0.8987 - val_loss: 0.2328 - val_acc: 0.9068\n",
      "Epoch 6/20\n",
      "238/238 [==============================] - 870s 4s/step - loss: 0.2443 - acc: 0.9070 - val_loss: 0.2279 - val_acc: 0.9089\n",
      "Epoch 7/20\n",
      "238/238 [==============================] - 593s 2s/step - loss: 0.2278 - acc: 0.9123 - val_loss: 0.1887 - val_acc: 0.9296\n",
      "Epoch 8/20\n",
      "238/238 [==============================] - 421s 2s/step - loss: 0.1936 - acc: 0.9269 - val_loss: 0.1890 - val_acc: 0.9274\n",
      "Epoch 9/20\n",
      "238/238 [==============================] - 666s 3s/step - loss: 0.1756 - acc: 0.9310 - val_loss: 0.1801 - val_acc: 0.9343\n",
      "Epoch 10/20\n",
      "238/238 [==============================] - 574s 2s/step - loss: 0.1675 - acc: 0.9380 - val_loss: 0.1692 - val_acc: 0.9386\n",
      "Epoch 11/20\n",
      "238/238 [==============================] - 2556s 11s/step - loss: 0.1419 - acc: 0.9451 - val_loss: 0.1634 - val_acc: 0.9407\n",
      "Epoch 12/20\n",
      "238/238 [==============================] - 1061s 4s/step - loss: 0.1464 - acc: 0.9466 - val_loss: 0.1785 - val_acc: 0.9311\n",
      "Epoch 13/20\n",
      "238/238 [==============================] - 430s 2s/step - loss: 0.1250 - acc: 0.9548 - val_loss: 0.1561 - val_acc: 0.9449\n",
      "Epoch 14/20\n",
      "238/238 [==============================] - 493s 2s/step - loss: 0.1046 - acc: 0.9577 - val_loss: 0.1513 - val_acc: 0.9481\n",
      "Epoch 15/20\n",
      "238/238 [==============================] - 412s 2s/step - loss: 0.0968 - acc: 0.9616 - val_loss: 0.1666 - val_acc: 0.9401\n",
      "Epoch 16/20\n",
      "238/238 [==============================] - 405s 2s/step - loss: 0.0880 - acc: 0.9636 - val_loss: 0.1537 - val_acc: 0.9465\n",
      "Epoch 17/20\n",
      "238/238 [==============================] - 407s 2s/step - loss: 0.0791 - acc: 0.9698 - val_loss: 0.1846 - val_acc: 0.9476\n",
      "Epoch 18/20\n",
      "238/238 [==============================] - 435s 2s/step - loss: 0.0681 - acc: 0.9731 - val_loss: 0.1673 - val_acc: 0.9492\n",
      "Epoch 19/20\n",
      "238/238 [==============================] - 489s 2s/step - loss: 0.0623 - acc: 0.9729 - val_loss: 0.2011 - val_acc: 0.9454\n",
      "Epoch 20/20\n",
      "238/238 [==============================] - 500s 2s/step - loss: 0.0552 - acc: 0.9788 - val_loss: 0.1816 - val_acc: 0.9523\n"
     ]
    }
   ],
   "source": [
    "historique = model.fit_generator(\n",
    "        train_generator,\n",
    "        steps_per_epoch=train_samples // batch_size,\n",
    "        epochs=epochs,\n",
    "        validation_data = test_generator,\n",
    "        validation_steps=test_samples// batch_size)"
   ]
  },
  {
   "cell_type": "code",
   "execution_count": 17,
   "metadata": {},
   "outputs": [],
   "source": [
    "model.save(r'save/model_336')"
   ]
  },
  {
   "cell_type": "code",
   "execution_count": 9,
   "metadata": {},
   "outputs": [
    {
     "name": "stdout",
     "output_type": "stream",
     "text": [
      "WARNING:tensorflow:From C:\\Users\\loicl\\anaconda3\\lib\\site-packages\\tensorflow\\python\\ops\\init_ops.py:97: calling GlorotUniform.__init__ (from tensorflow.python.ops.init_ops) with dtype is deprecated and will be removed in a future version.\n",
      "Instructions for updating:\n",
      "Call initializer instance with the dtype argument instead of passing it to the constructor\n",
      "WARNING:tensorflow:From C:\\Users\\loicl\\anaconda3\\lib\\site-packages\\tensorflow\\python\\ops\\init_ops.py:1251: calling VarianceScaling.__init__ (from tensorflow.python.ops.init_ops) with dtype is deprecated and will be removed in a future version.\n",
      "Instructions for updating:\n",
      "Call initializer instance with the dtype argument instead of passing it to the constructor\n",
      "WARNING:tensorflow:From C:\\Users\\loicl\\anaconda3\\lib\\site-packages\\tensorflow\\python\\ops\\init_ops.py:97: calling Zeros.__init__ (from tensorflow.python.ops.init_ops) with dtype is deprecated and will be removed in a future version.\n",
      "Instructions for updating:\n",
      "Call initializer instance with the dtype argument instead of passing it to the constructor\n",
      "WARNING:tensorflow:From C:\\Users\\loicl\\anaconda3\\lib\\site-packages\\tensorflow\\python\\ops\\nn_impl.py:180: add_dispatch_support.<locals>.wrapper (from tensorflow.python.ops.array_ops) is deprecated and will be removed in a future version.\n",
      "Instructions for updating:\n",
      "Use tf.where in 2.0, which has the same broadcast rule as np.where\n"
     ]
    }
   ],
   "source": [
    "model2 = load_model(r'save/premier_model_potable')"
   ]
  },
  {
   "cell_type": "code",
   "execution_count": 10,
   "metadata": {},
   "outputs": [
    {
     "ename": "NameError",
     "evalue": "name 'train_generator' is not defined",
     "output_type": "error",
     "traceback": [
      "\u001b[1;31m---------------------------------------------------------------------------\u001b[0m",
      "\u001b[1;31mNameError\u001b[0m                                 Traceback (most recent call last)",
      "\u001b[1;32m<ipython-input-10-c68674bad0ca>\u001b[0m in \u001b[0;36m<module>\u001b[1;34m\u001b[0m\n\u001b[1;32m----> 1\u001b[1;33m \u001b[0mmodel2\u001b[0m\u001b[1;33m.\u001b[0m\u001b[0mpredict\u001b[0m\u001b[1;33m(\u001b[0m\u001b[0mtrain_generator\u001b[0m\u001b[1;33m)\u001b[0m\u001b[1;33m\u001b[0m\u001b[1;33m\u001b[0m\u001b[0m\n\u001b[0m",
      "\u001b[1;31mNameError\u001b[0m: name 'train_generator' is not defined"
     ]
    }
   ],
   "source": [
    "epochs = range(1,20)\n",
    "plt.plot(epochs, historique.history['accuracy'], label='Accuracy')\n",
    "plt.plot(epochs, historique.history['val_accuracy'], label='Validation Accuracy')\n",
    "plt.plot(epochs, historique.history['loss'], label='Loss')\n",
    "plt.plot(epochs, historique.history['val_loss'], label='Validation Loss')\n",
    "plt.title('Training and Validation loss and accuracy for the heavy layer fully connected')\n",
    "plt.legend(loc=\"upper left\")\n",
    "plt.xlabel('Epochs')\n",
    "plt.ylabel('Values')\n",
    "plt.show()"
   ]
  },
  {
   "cell_type": "code",
   "execution_count": null,
   "metadata": {},
   "outputs": [],
   "source": []
  }
 ],
 "metadata": {
  "kernelspec": {
   "display_name": "Python 3",
   "language": "python",
   "name": "python3"
  },
  "language_info": {
   "codemirror_mode": {
    "name": "ipython",
    "version": 3
   },
   "file_extension": ".py",
   "mimetype": "text/x-python",
   "name": "python",
   "nbconvert_exporter": "python",
   "pygments_lexer": "ipython3",
   "version": "3.7.7"
  }
 },
 "nbformat": 4,
 "nbformat_minor": 4
}
