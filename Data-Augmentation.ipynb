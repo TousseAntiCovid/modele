{
 "cells": [
  {
   "cell_type": "code",
   "execution_count": null,
   "metadata": {},
   "outputs": [],
   "source": [
    "# importation de la class datagenerator\n",
    "\n",
    "import numpy as np\n",
    "import os\n",
    "from PIL import Image\n",
    "from tensorflow.keras.preprocessing.image import ImageDataGenerator\n",
    "from skimage import io\n",
    "from tensorflow.keras.preprocessing.image import load_img,img_to_array"
   ]
  },
  {
   "cell_type": "code",
   "execution_count": null,
   "metadata": {},
   "outputs": [],
   "source": [
    "# on instencie notre objet ImageDataGenerator\n",
    "\n",
    "MonPetitGenerateur = ImageDataGenerator(\n",
    "        rotation_range=45,     #Borne de la rotation donc de 0 a 45\n",
    "        width_shift_range=0.2,   #Borne du deplacement sur X\n",
    "        height_shift_range=0.2, #Borne du deplacement sur Y\n",
    "        shear_range=0.2,     #ça je suis pas sur shear = depouiller tondre\n",
    "        zoom_range=0.2, #Borne du zoom qu'on va appliquer a notre image\n",
    "        horizontal_flip=True, #ça c'est pour flip a l'horizontale classico del madrido\n",
    "        fill_mode='constant', cval=125) #fill mode c'est quand l'image se deplace y a des bandes noir là on choisit la couleur etc \n",
    "                                        #try nearest, constant, reflect, wrap"
   ]
  },
  {
   "cell_type": "code",
   "execution_count": null,
   "metadata": {},
   "outputs": [],
   "source": [
    "image_directory = 'fourier-test/'\n",
    "SIZE = 500\n",
    "dataset = []\n",
    "\n",
    "my_images = os.listdir(image_directory)\n",
    "for i, image_name in enumerate(my_images):\n",
    "    if (image_name.split('.')[1] == 'jpg'):\n",
    "        image = load_img(image_directory + image_name,target_size = (224,224))\n",
    "        image = img_to_array(image)\n",
    "        image = image.reshape((image.shape[0], image.shape[1], image.shape[2]))\n",
    "        dataset.append(image)\n",
    "x = np.array(dataset)"
   ]
  },
  {
   "cell_type": "code",
   "execution_count": null,
   "metadata": {},
   "outputs": [],
   "source": [
    "i = 0\n",
    "for batch in MonPetitGenerateur.flow(x, batch_size=128,  \n",
    "                          save_to_dir='fourier-augmented', \n",
    "                          save_prefix='augmented-', \n",
    "                          save_format='png'):\n",
    "    i += 1\n",
    "    if i > 19:\n",
    "        break"
   ]
  }
 ],
 "metadata": {
  "kernelspec": {
   "display_name": "Python 3",
   "language": "python",
   "name": "python3"
  },
  "language_info": {
   "codemirror_mode": {
    "name": "ipython",
    "version": 3
   },
   "file_extension": ".py",
   "mimetype": "text/x-python",
   "name": "python",
   "nbconvert_exporter": "python",
   "pygments_lexer": "ipython3",
   "version": "3.7.7"
  }
 },
 "nbformat": 4,
 "nbformat_minor": 4
}
